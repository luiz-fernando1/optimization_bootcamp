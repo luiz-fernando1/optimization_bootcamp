{
 "cells": [
  {
   "attachments": {},
   "cell_type": "markdown",
   "metadata": {},
   "source": [
    "Classe de dados"
   ]
  },
  {
   "cell_type": "code",
   "execution_count": 1,
   "metadata": {},
   "outputs": [],
   "source": [
    "from dataclasses import dataclass\n",
    "\n",
    "@dataclass \n",
    "class ValuableItem:\n",
    "  opcao: str\n",
    "  value: float \n",
    "  retorno_esperado: float\n",
    "  \n",
    "  @property\n",
    "  def value_razao(self) -> float:\n",
    "    \"Returns retorno esperado / value\"\n",
    "    return self.retorno_esperado / (self.value + 1e-9)"
   ]
  },
  {
   "cell_type": "markdown",
   "metadata": {},
   "source": [
    "Métodos auxiliares"
   ]
  },
  {
   "cell_type": "code",
   "execution_count": 10,
   "metadata": {},
   "outputs": [],
   "source": [
    "import pandas as pd \n",
    "from typing import List\n",
    "\n",
    "def items_to_table(opcao: List[ValuableItem]) -> pd.DataFrame:\n",
    "  records = [{\n",
    "          'Opção': i.opcao,\n",
    "          'Valor ($)': i.value,\n",
    "          'Retorno esperado ($)': i.retorno_esperado\n",
    "  } for i in opcao]\n",
    "  records.append({\n",
    "    'Opcao': 'Total',\n",
    "    'Valor ($)': sum(i.value for i in opcao),\n",
    "    'Retorno esperado ($)': sum(i.retorno_esperado for i in opcao)\n",
    "  })\n",
    "  return pd.DataFrame.from_records(records)"
   ]
  },
  {
   "attachments": {},
   "cell_type": "markdown",
   "metadata": {},
   "source": [
    "Exemplo"
   ]
  },
  {
   "cell_type": "code",
   "execution_count": 8,
   "metadata": {},
   "outputs": [
    {
     "data": {
      "text/html": [
       "<div>\n",
       "<style scoped>\n",
       "    .dataframe tbody tr th:only-of-type {\n",
       "        vertical-align: middle;\n",
       "    }\n",
       "\n",
       "    .dataframe tbody tr th {\n",
       "        vertical-align: top;\n",
       "    }\n",
       "\n",
       "    .dataframe thead th {\n",
       "        text-align: right;\n",
       "    }\n",
       "</style>\n",
       "<table border=\"1\" class=\"dataframe\">\n",
       "  <thead>\n",
       "    <tr style=\"text-align: right;\">\n",
       "      <th></th>\n",
       "      <th>Opção</th>\n",
       "      <th>Valor ($)</th>\n",
       "      <th>Retorno esperado ($)</th>\n",
       "      <th>Opcao</th>\n",
       "    </tr>\n",
       "  </thead>\n",
       "  <tbody>\n",
       "    <tr>\n",
       "      <th>0</th>\n",
       "      <td>opcao 1</td>\n",
       "      <td>470006</td>\n",
       "      <td>410000</td>\n",
       "      <td>NaN</td>\n",
       "    </tr>\n",
       "    <tr>\n",
       "      <th>1</th>\n",
       "      <td>opcao 2</td>\n",
       "      <td>400000</td>\n",
       "      <td>330000</td>\n",
       "      <td>NaN</td>\n",
       "    </tr>\n",
       "    <tr>\n",
       "      <th>2</th>\n",
       "      <td>opcao 3</td>\n",
       "      <td>176000</td>\n",
       "      <td>140000</td>\n",
       "      <td>NaN</td>\n",
       "    </tr>\n",
       "    <tr>\n",
       "      <th>3</th>\n",
       "      <td>opcao 4</td>\n",
       "      <td>270000</td>\n",
       "      <td>250000</td>\n",
       "      <td>NaN</td>\n",
       "    </tr>\n",
       "    <tr>\n",
       "      <th>4</th>\n",
       "      <td>opcao 5</td>\n",
       "      <td>340000</td>\n",
       "      <td>326000</td>\n",
       "      <td>NaN</td>\n",
       "    </tr>\n",
       "    <tr>\n",
       "      <th>5</th>\n",
       "      <td>opcao 6</td>\n",
       "      <td>230000</td>\n",
       "      <td>326000</td>\n",
       "      <td>NaN</td>\n",
       "    </tr>\n",
       "    <tr>\n",
       "      <th>6</th>\n",
       "      <td>opcao 7</td>\n",
       "      <td>50000</td>\n",
       "      <td>90000</td>\n",
       "      <td>NaN</td>\n",
       "    </tr>\n",
       "    <tr>\n",
       "      <th>7</th>\n",
       "      <td>opcao 8</td>\n",
       "      <td>440000</td>\n",
       "      <td>190006</td>\n",
       "      <td>NaN</td>\n",
       "    </tr>\n",
       "    <tr>\n",
       "      <th>8</th>\n",
       "      <td>NaN</td>\n",
       "      <td>2376006</td>\n",
       "      <td>2062006</td>\n",
       "      <td>Total</td>\n",
       "    </tr>\n",
       "  </tbody>\n",
       "</table>\n",
       "</div>"
      ],
      "text/plain": [
       "     Opção  Valor ($)  Retorno esperado ($)  Opcao\n",
       "0  opcao 1     470006                410000    NaN\n",
       "1  opcao 2     400000                330000    NaN\n",
       "2  opcao 3     176000                140000    NaN\n",
       "3  opcao 4     270000                250000    NaN\n",
       "4  opcao 5     340000                326000    NaN\n",
       "5  opcao 6     230000                326000    NaN\n",
       "6  opcao 7      50000                 90000    NaN\n",
       "7  opcao 8     440000                190006    NaN\n",
       "8      NaN    2376006               2062006  Total"
      ]
     },
     "execution_count": 8,
     "metadata": {},
     "output_type": "execute_result"
    }
   ],
   "source": [
    "\n",
    "capacity = 1000000\n",
    "values = [470000,400000,170000,270000,340000,230000,50000,440000] #pesos\n",
    "\n",
    "retorno_esperado = [410000,330000,140000,250000,320000,320000,90000,190000] # utilidade\n",
    "\n",
    "available_items = [ValuableItem(f'opcao {i+1}', v, w) for i, (v, w) in enumerate(zip(values, retorno_esperado))] \n",
    "\n",
    "items_to_table(available_items)"
   ]
  },
  {
   "attachments": {},
   "cell_type": "markdown",
   "metadata": {},
   "source": [
    "Heuristica gulosa"
   ]
  },
  {
   "cell_type": "code",
   "execution_count": 9,
   "metadata": {},
   "outputs": [],
   "source": [
    "\n",
    "from typing import List\n",
    "\n",
    "def greedy_knapsack( \n",
    "  capacity: float, \n",
    "  available_items: List[ValuableItem]\n",
    ") -> List[ValuableItem]:\n",
    "  chosen_items = list()\n",
    "\n",
    "  sorted_items = sorted(\n",
    "    available_items, \n",
    "    key=lambda i: i.value_razao,\n",
    "    reverse=True)\n",
    "\n",
    "  for opcao in sorted_items:\n",
    "    if opcao.value <= capacity:\n",
    "      chosen_items.append(opcao)\n",
    "      capacity -= opcao.value\n",
    "  return chosen_items"
   ]
  },
  {
   "cell_type": "code",
   "execution_count": 5,
   "metadata": {},
   "outputs": [
    {
     "data": {
      "text/html": [
       "<div>\n",
       "<style scoped>\n",
       "    .dataframe tbody tr th:only-of-type {\n",
       "        vertical-align: middle;\n",
       "    }\n",
       "\n",
       "    .dataframe tbody tr th {\n",
       "        vertical-align: top;\n",
       "    }\n",
       "\n",
       "    .dataframe thead th {\n",
       "        text-align: right;\n",
       "    }\n",
       "</style>\n",
       "<table border=\"1\" class=\"dataframe\">\n",
       "  <thead>\n",
       "    <tr style=\"text-align: right;\">\n",
       "      <th></th>\n",
       "      <th>Opção</th>\n",
       "      <th>Valor ($)</th>\n",
       "      <th>Retorno esperado ($)</th>\n",
       "      <th>Opcao</th>\n",
       "    </tr>\n",
       "  </thead>\n",
       "  <tbody>\n",
       "    <tr>\n",
       "      <th>0</th>\n",
       "      <td>opcao 7</td>\n",
       "      <td>50000</td>\n",
       "      <td>90000</td>\n",
       "      <td>NaN</td>\n",
       "    </tr>\n",
       "    <tr>\n",
       "      <th>1</th>\n",
       "      <td>opcao 6</td>\n",
       "      <td>230000</td>\n",
       "      <td>326000</td>\n",
       "      <td>NaN</td>\n",
       "    </tr>\n",
       "    <tr>\n",
       "      <th>2</th>\n",
       "      <td>opcao 5</td>\n",
       "      <td>340000</td>\n",
       "      <td>326000</td>\n",
       "      <td>NaN</td>\n",
       "    </tr>\n",
       "    <tr>\n",
       "      <th>3</th>\n",
       "      <td>opcao 4</td>\n",
       "      <td>270000</td>\n",
       "      <td>250000</td>\n",
       "      <td>NaN</td>\n",
       "    </tr>\n",
       "    <tr>\n",
       "      <th>4</th>\n",
       "      <td>NaN</td>\n",
       "      <td>890000</td>\n",
       "      <td>992000</td>\n",
       "      <td>Total</td>\n",
       "    </tr>\n",
       "  </tbody>\n",
       "</table>\n",
       "</div>"
      ],
      "text/plain": [
       "     Opção  Valor ($)  Retorno esperado ($)  Opcao\n",
       "0  opcao 7      50000                 90000    NaN\n",
       "1  opcao 6     230000                326000    NaN\n",
       "2  opcao 5     340000                326000    NaN\n",
       "3  opcao 4     270000                250000    NaN\n",
       "4      NaN     890000                992000  Total"
      ]
     },
     "execution_count": 5,
     "metadata": {},
     "output_type": "execute_result"
    }
   ],
   "source": [
    "chosen_items = greedy_knapsack(capacity, available_items) \n",
    "items_to_table(chosen_items)"
   ]
  },
  {
   "attachments": {},
   "cell_type": "markdown",
   "metadata": {},
   "source": [
    "Modelagem...\n",
    "\n"
   ]
  },
  {
   "cell_type": "code",
   "execution_count": null,
   "metadata": {},
   "outputs": [],
   "source": [
    "# Solução MILP\n",
    "# Construção do problema usando a biblioteca science-optimization, usando o algoritmo GLOP (open-source):\n",
    "# uncomment and run to install framework\n",
    "#!pip install science-optimization"
   ]
  },
  {
   "attachments": {},
   "cell_type": "markdown",
   "metadata": {},
   "source": [
    "Contrutor do problema"
   ]
  },
  {
   "cell_type": "code",
   "execution_count": null,
   "metadata": {},
   "outputs": [],
   "source": [
    "from science_optimization.builder import (\n",
    "  BuilderOptimizationProblem, #Classe Abstrata\n",
    "  Variable, \n",
    "  Constraint, \n",
    "  Objective, \n",
    "  OptimizationProblem\n",
    ")\n",
    "\n",
    "from science_optimization.function import (\n",
    "  FunctionsComposite, \n",
    "  LinearFunction,\n",
    ")\n",
    "\n",
    "from science_optimization.solvers import Optimizer \n",
    "from science_optimization.algorithms.linear_programming import Glop \n",
    "import numpy as np\n",
    "\n",
    "class Knapsack(Builder0ptimizationProblem):\n",
    "  def __init__(\n",
    "    self, \n",
    "    capacity: float, \n",
    "    available_items: List[ValuableItem]):\n",
    "\n",
    "    self.__capacity = capacity\n",
    "    self.__itens = available_items\n",
    "\n",
    "  @property \n",
    "  def __num_vars (self) -> int:\n",
    "    return len(self.__items)\n",
    "  \n",
    "  @property \n",
    "  def __weights(self) -> np.array:\n",
    "    return np.array([item.value for item in self.__items]).reshape(-1, 1)\n",
    "  \n",
    "  @property\n",
    "  def __values(self) -> np.array:\n",
    "    return np.array([item.retorno_esperado for item in self.__items]).reshape(-1, 1)\n",
    "  \n",
    "  #Metodo abstrato de Builder0ptimizationProblem\n",
    "  #Aqui contrai as varaveis  \n",
    "  def build_variables(self):\n",
    "    x_min = np.zeros((self.__num_vars, 1))\n",
    "    x_max = np.ones((self.__num_vars, 1))\n",
    "    x_type=['d']*self.__num_vars # Discrete variable\n",
    "    variables =   Variable(x_min, x_max, x_type)\n",
    "    \n",
    "    return variables\n",
    "\n",
    "  #Metodo abstrato de Builder0ptimizationProblem\n",
    "  #Aqui contrai as restricoes\n",
    "  def build_constraints(self) -> Constraint:\n",
    "    \"\"\"Weights cannot exceed capacity\"\"\" \n",
    "    # с * x - d <= 0\n",
    "    constraint = LinearFunction(c=self._weights, d=-self._capacity)\n",
    "  \n",
    "    ineq_cons = FunctionsComposite ()\n",
    "    ineq_cons.add(constraint)\n",
    "    constraints = Constraint (ineq_cons=ineq_cons)\n",
    "    return constraints\n",
    "  \n",
    "  #Metodo abstrato de Builder0ptimizationProblem\n",
    "  #Aqui contrai a funcao objetivo\n",
    "  def build_objectives(self) -> Objective:\n",
    "    # minimize -v*x\n",
    "    obj_fun = LinearFunction(c=-self.__values)\n",
    "     \n",
    "    obj_funs = FunctionsComposite ()\n",
    "    obj_funs.add(obj_fun)\n",
    "    objective = Objective(objective=obj_funs)\n",
    "    \n",
    "    return objective"
   ]
  },
  {
   "cell_type": "code",
   "execution_count": null,
   "metadata": {},
   "outputs": [],
   "source": [
    "\n",
    "def optimization_problem( \n",
    "  capacity: float, \n",
    "  available_items: List[ValuableItem],\n",
    "  verbose: bool = False\n",
    ") -> OptimizationProblem:\n",
    "  knapsack = Knapsack(capacity, available_items)\n",
    "  problem = OptimizationProblem(builder=knapsack)\n",
    "  if verbose:\n",
    "    print(problem.info())\n",
    "  return problem"
   ]
  },
  {
   "attachments": {},
   "cell_type": "markdown",
   "metadata": {},
   "source": [
    "Otimização "
   ]
  },
  {
   "cell_type": "code",
   "execution_count": null,
   "metadata": {},
   "outputs": [],
   "source": [
    "def run_optimization(\n",
    "  problem: OptimizationProblem,\n",
    "  verbose: bool = False\n",
    ") -> np.array:\n",
    "  optimizer = Optimizer(\n",
    "    opt_problem=problem, \n",
    "    algorithm=Glop ()\n",
    "  )\n",
    "  results = optimizer.optimize()\n",
    "  decision_variables = results.x.ravel ()\n",
    "  if verbose:\n",
    "    print (f\"Decision variable:\\n{decision_variables}\")\n",
    "  return decision_variables"
   ]
  },
  {
   "cell_type": "code",
   "execution_count": 29,
   "metadata": {},
   "outputs": [
    {
     "ename": "NameError",
     "evalue": "name 'OptimizationProblem' is not defined",
     "output_type": "error",
     "traceback": [
      "\u001b[1;31m---------------------------------------------------------------------------\u001b[0m",
      "\u001b[1;31mNameError\u001b[0m                                 Traceback (most recent call last)",
      "\u001b[1;32m~\\AppData\\Local\\Temp/ipykernel_2664/1772420562.py\u001b[0m in \u001b[0;36m<module>\u001b[1;34m\u001b[0m\n\u001b[0;32m      1\u001b[0m def run_optimization(\n\u001b[1;32m----> 2\u001b[1;33m   \u001b[0mproblem\u001b[0m\u001b[1;33m:\u001b[0m \u001b[0mOptimizationProblem\u001b[0m\u001b[1;33m,\u001b[0m\u001b[1;33m\u001b[0m\u001b[1;33m\u001b[0m\u001b[0m\n\u001b[0m\u001b[0;32m      3\u001b[0m   \u001b[0mverbose\u001b[0m\u001b[1;33m:\u001b[0m \u001b[0mbool\u001b[0m \u001b[1;33m=\u001b[0m \u001b[1;32mFalse\u001b[0m\u001b[1;33m\u001b[0m\u001b[1;33m\u001b[0m\u001b[0m\n\u001b[0;32m      4\u001b[0m ) -> np.array:\n\u001b[0;32m      5\u001b[0m   optimizer = Optimizer(\n",
      "\u001b[1;31mNameError\u001b[0m: name 'OptimizationProblem' is not defined"
     ]
    }
   ],
   "source": [
    "def knapsack_milp(\n",
    "  capacity: float, \n",
    "  items: List[ValuableItem],\n",
    "  verbose:bool = False) -> List[ValuableItem]:\n",
    "\n",
    "  problem = optimization_problem(capacity, available_items, verbose)\n",
    "  decision_variables = run_optimization(problem, verbose)\n",
    "\n",
    "  # Build list of chosen items\n",
    "  chosen_items = list()\n",
    "  for item, item_was_chosen in zip(available_items, decision_variables):\n",
    "    if item_was_chosen:\n",
    "      chosen_items.append(item)\n",
    "  return chosen_items"
   ]
  },
  {
   "cell_type": "code",
   "execution_count": null,
   "metadata": {},
   "outputs": [],
   "source": [
    "chosen_items = knapsack_milp(capacity, available_items, verbose=True) \n",
    "items_to_table(chosen_items)"
   ]
  },
  {
   "attachments": {},
   "cell_type": "markdown",
   "metadata": {},
   "source": [
    "Testes"
   ]
  },
  {
   "cell_type": "code",
   "execution_count": null,
   "metadata": {},
   "outputs": [],
   "source": [
    "import unittest\n",
    "\n",
    "class TestGreedyKnapsack (unittest.TestCase):\n",
    "    def test_if_no_available_items_knapsack_is_empty(self):\n",
    "        available_items = list()\n",
    "        capacity = 15\n",
    "        chosen_items = greedy_knapsack(capacity, available_items)\n",
    "        self.assertEqual(chosen_items, list ())\n",
    "\n",
    "    def test_single_item_is_chosen(self):\n",
    "        available_items = [ValuableItem('ItemX', value=5, retorno_esperado=30)]\n",
    "        capacity = 15\n",
    "        chosen_items = greedy_knapsack(capacity, available_items)\n",
    "        self.assertEqual(chosen_items, available_items)\n",
    "        \n",
    "    def test_item_that_does_not_fit_in_backpack_is_not_chosen(self):\n",
    "        light_item = ValuableItem('ItemX', value=15, retorno_esperado=1)\n",
    "        heavy_item = ValuableItem('ItemY', value=16, retorno_esperado=100)\n",
    "        available_items = [light_item, heavy_item]\n",
    "        capacity = 15\n",
    "        chosen_items = greedy_knapsack(capacity, available_items)\n",
    "        self.assertEqual (chosen_items, [light_item])"
   ]
  },
  {
   "cell_type": "code",
   "execution_count": null,
   "metadata": {},
   "outputs": [],
   "source": [
    "unittest.main(argv=[''], verbosity=2, exit=False)"
   ]
  }
 ],
 "metadata": {
  "kernelspec": {
   "display_name": "Python 3",
   "language": "python",
   "name": "python3"
  },
  "language_info": {
   "codemirror_mode": {
    "name": "ipython",
    "version": 3
   },
   "file_extension": ".py",
   "mimetype": "text/x-python",
   "name": "python",
   "nbconvert_exporter": "python",
   "pygments_lexer": "ipython3",
   "version": "3.9.6"
  },
  "orig_nbformat": 4,
  "vscode": {
   "interpreter": {
    "hash": "873163ce2ae98f1b705cfc3c53e16c868f8eee73c4606fd3f8d725732334114d"
   }
  }
 },
 "nbformat": 4,
 "nbformat_minor": 2
}

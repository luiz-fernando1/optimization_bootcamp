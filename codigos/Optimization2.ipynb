{
 "cells": [
  {
   "cell_type": "code",
   "execution_count": 161,
   "metadata": {},
   "outputs": [],
   "source": [
    "# Limites para investimento (inferior e superior)\n",
    "limite = 1000000\n",
    "limiteinf = int(limite*0.8)\n",
    "\n",
    "#Custo de cada opção de investimento\n",
    "custo = [470000,400000,170000,270000,340000,230000,50000,440000,100000,100000]\n",
    "\n",
    "#Rendimento de cada opção de investimento  \n",
    "retorno = [410000,330000,140000,250000,320000,320000,90000,190000,500000,150000]\n",
    "\n",
    "#Retorno Relativo\n",
    "retornoRel = [r/c for c, r in zip(custo, retorno)]\n",
    "\n",
    "#Riscos - 1 Baixo - 2 Medio - 3 Alto\n",
    "risco=[1,1,1,2,2,3,3,1,3,3]\n"
   ]
  },
  {
   "cell_type": "code",
   "execution_count": 162,
   "metadata": {},
   "outputs": [
    {
     "name": "stderr",
     "output_type": "stream",
     "text": [
      "c:\\Users\\luiiz\\AppData\\Local\\Programs\\Python\\Python39\\lib\\site-packages\\pulp\\pulp.py:1352: UserWarning: Spaces are not permitted in the name. Converted to '_'\n",
      "  warnings.warn(\"Spaces are not permitted in the name. Converted to '_'\")\n"
     ]
    }
   ],
   "source": [
    "from pulp import *\n",
    "\n",
    "#Classe com o solver \n",
    "class Investimento:\n",
    "    def __init__(self, custo, retorno, limite, limiteinf, risco):\n",
    "        self.custo = custo\n",
    "        self.retorno = retorno\n",
    "        self.limite = limite\n",
    "        self.limiteinf = limiteinf\n",
    "        self.opcoes = len(custo)\n",
    "        self.risco = risco\n",
    "        \n",
    "        # Criando um problema\n",
    "        self.problema = LpProblem(\"Otimização de investimento\", LpMaximize)\n",
    "        \n",
    "        #Criando lista de variavel de decisão binaria\n",
    "        self.list_var = [LpVariable(f\"Investmento{i+1}\", 0, 1, LpBinary) for i in range(self.opcoes)]\n",
    "        \n",
    "        #Funcao Objetivo\n",
    "        self.problema += lpSum([retorno[i] * self.list_var[i] for i in range(self.opcoes)])\n",
    "  \n",
    "        #RESTRIÇÕES\n",
    "        self.problema += lpSum([custo[i] * self.list_var[i] for i in range(self.opcoes)]) <= limite \n",
    "        self.problema += lpSum([custo[i] * self.list_var[i] for i in range(self.opcoes)]) >= limiteinf\n",
    "        #Relação entre as opções\n",
    "        self.problema += self.list_var[0] + self.list_var[4] <= 1\n",
    "        self.problema += self.list_var[1] - self.list_var[3] <= 0\n",
    "        # Riscos\n",
    "        self.problema += lpSum(self.list_var[i] for i in range(self.opcoes) if value(risco[i]) == 3) <= 1\n",
    "        self.problema += lpSum(self.list_var[i] for i in range(self.opcoes) if value(risco[i]) == 2) <= 2\n",
    "        self.problema += lpSum(self.list_var[i] for i in range(self.opcoes) if value(risco[i]) == 1) >= 1\n",
    "        #diversificação\n",
    "        self.problema += lpSum(self.list_var[i] for i in range(self.opcoes)) == 4\n",
    "        \n",
    "    def solver(self):\n",
    "        self.problema.solve()\n",
    "        \n",
    "        result = {\"Investimento\": [], \"Custo\": [], \"Retorno Esperado\": [], \"Opção\": [], \"Risco\": []}\n",
    "        for i in range(self.opcoes):\n",
    "            result[\"Investimento\"].append(i+1)\n",
    "            result[\"Custo\"].append(self.custo[i])\n",
    "            result[\"Retorno Esperado\"].append(int(self.retorno[i]*self.custo[i])) #Normalizado para retorno normal \n",
    "            result[\"Opção\"].append(int(value(self.list_var[i])))\n",
    "            result[\"Risco\"].append(self.risco[i])\n",
    "        return result\n",
    "    \n",
    "#instancia da classe \n",
    "invest = Investimento(custo, retornoRel, limite, limiteinf, risco)\n",
    "result = invest.solver()"
   ]
  },
  {
   "cell_type": "code",
   "execution_count": 163,
   "metadata": {},
   "outputs": [
    {
     "name": "stdout",
     "output_type": "stream",
     "text": [
      "Investimento\tCusto\t\tRetorno Esp.\tRisco\n",
      "___________________________________________________________\n",
      "3\t\t170000\t\t140000\t\t1\n",
      "4\t\t270000\t\t250000\t\t2\n",
      "5\t\t340000\t\t320000\t\t2\n",
      "9\t\t100000\t\t500000\t\t3\n",
      "___________________________________________________________\n",
      "Total:\t\t880000\t\t1210000\n"
     ]
    }
   ],
   "source": [
    "print(\"Investimento\\tCusto\\t\\tRetorno Esp.\\tRisco\")\n",
    "print(\"___________________________________________________________\")\n",
    "soma_custo=0\n",
    "soma_rendimento=0\n",
    "for i in range(len(result['Opção'])):\n",
    "  if result['Opção'][i] == 1:\n",
    "    print(f\"{result['Investimento'][i]}\\t\\t{result['Custo'][i]}\\t\\t{result['Retorno Esperado'][i]}\\t\\t{result['Risco'][i]}\")\n",
    "    soma_custo += result['Custo'][i]\n",
    "    soma_rendimento += result['Retorno Esperado'][i] \n",
    "print(\"___________________________________________________________\")\n",
    "print(f\"{'Total:'}\\t\\t{soma_custo}\\t\\t{int(soma_rendimento)}\")"
   ]
  },
  {
   "cell_type": "code",
   "execution_count": 164,
   "metadata": {},
   "outputs": [
    {
     "name": "stderr",
     "output_type": "stream",
     "text": [
      "c:\\Users\\luiiz\\AppData\\Local\\Programs\\Python\\Python39\\lib\\site-packages\\pulp\\pulp.py:1352: UserWarning: Spaces are not permitted in the name. Converted to '_'\n",
      "  warnings.warn(\"Spaces are not permitted in the name. Converted to '_'\")\n",
      "...\n",
      "----------------------------------------------------------------------\n",
      "Ran 3 tests in 0.182s\n",
      "\n",
      "OK\n"
     ]
    },
    {
     "data": {
      "text/plain": [
       "<unittest.main.TestProgram at 0x2736be5d880>"
      ]
     },
     "execution_count": 164,
     "metadata": {},
     "output_type": "execute_result"
    }
   ],
   "source": [
    "import unittest\n",
    "\n",
    "class Teste(unittest.TestCase):\n",
    "    \n",
    "    def test_custo(self):\n",
    "        invest = Investimento(custo, retornoRel, limite, limiteinf, risco)\n",
    "        self.result = invest.solver()\n",
    "        \n",
    "        # Testa se o custo total dos investimentos não ultrapassa o limite de investimento\n",
    "        custoTotal = sum(self.result['Custo'][i] * self.result[\"Opção\"][i] for i in range(len(self.result[\"Opção\"])) if result['Opção'][i] == 1)\n",
    "        self.assertLessEqual(custoTotal, limite)\n",
    "        self.assertGreaterEqual(custoTotal, limiteinf)\n",
    "        \n",
    "     \n",
    "    def teste_restricoes(self):\n",
    "        invest = Investimento(custo, retornoRel, limite, limiteinf, risco)\n",
    "        self.result = invest.solver()\n",
    "        \n",
    "        # Testa se as restrições das opcoes foram aplicadas corretamente\n",
    "        self.assertLessEqual(self.result[\"Opção\"][0] + self.result[\"Opção\"][4], 1)\n",
    "        self.assertLessEqual(self.result[\"Opção\"][1] - self.result[\"Opção\"][3], 0)\n",
    "       \n",
    "        # Testa se as restrições de riscos foram aplicadas corretamente\n",
    "        risco_tres = sum(self.result[\"Opção\"][i] for i in range(len(self.result[\"Opção\"])) if self.result['Risco'][i] == 3)\n",
    "        self.assertLessEqual(risco_tres, 1)\n",
    "        \n",
    "        risco_dois = sum(self.result[\"Opção\"][i] for i in range(len(self.result[\"Opção\"])) if self.result['Risco'][i] == 2)\n",
    "        self.assertLessEqual(risco_dois, 2)\n",
    "        \n",
    "        risco_um = sum(self.result[\"Opção\"][i] for i in range(len(self.result[\"Opção\"])) if self.result['Risco'][i] == 1)\n",
    "        self.assertEqual(risco_um, 1)\n",
    "        \n",
    "        # Testa se as restrições de diversificacao de foi aplicadas corretamente\n",
    "        self.assertEqual(sum(self.result[\"Opção\"][i] for i in range(len(self.result[\"Opção\"]))), 4)\n",
    " \n",
    "    def teste_retorno(self):\n",
    "        invest = Investimento(custo, retornoRel, limite, limiteinf, risco)\n",
    "        self.result = invest.solver()\n",
    "        \n",
    "        # Testa se o retorno esperado é igual ao retorno esperado do resultado\n",
    "        expected_return = lpSum([self.result['Retorno Esperado'][i] * self.result[\"Opção\"][i] for i in range(len(self.result[\"Opção\"]))])\n",
    "        self.assertEqual(expected_return, self.result[\"Retorno Esperado\"])\n",
    "        \n",
    "unittest.main(argv=[''], exit=False)"
   ]
  },
  {
   "cell_type": "code",
   "execution_count": 8,
   "metadata": {},
   "outputs": [
    {
     "name": "stdout",
     "output_type": "stream",
     "text": [
      "{40, 10, 20, '10', 30}\n"
     ]
    }
   ],
   "source": [
    "li = [10, 20, 10, '10', 20,30,40,40,40]\n",
    "st = set(li)\n",
    "print(st)"
   ]
  }
 ],
 "metadata": {
  "kernelspec": {
   "display_name": "Python 3",
   "language": "python",
   "name": "python3"
  },
  "language_info": {
   "codemirror_mode": {
    "name": "ipython",
    "version": 3
   },
   "file_extension": ".py",
   "mimetype": "text/x-python",
   "name": "python",
   "nbconvert_exporter": "python",
   "pygments_lexer": "ipython3",
   "version": "3.9.6"
  },
  "orig_nbformat": 4,
  "vscode": {
   "interpreter": {
    "hash": "873163ce2ae98f1b705cfc3c53e16c868f8eee73c4606fd3f8d725732334114d"
   }
  }
 },
 "nbformat": 4,
 "nbformat_minor": 2
}
